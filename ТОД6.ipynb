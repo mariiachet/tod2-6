{
  "nbformat": 4,
  "nbformat_minor": 0,
  "metadata": {
    "colab": {
      "provenance": []
    },
    "kernelspec": {
      "name": "python3",
      "display_name": "Python 3"
    },
    "language_info": {
      "name": "python"
    }
  },
  "cells": [
    {
      "cell_type": "code",
      "source": [
        "import pandas as pd\n",
        "import re\n",
        "from bs4 import BeautifulSoup\n",
        "recipes = pd.read_csv('recipes_sample.csv')"
      ],
      "metadata": {
        "id": "jQlzTtxLESOi"
      },
      "execution_count": 2,
      "outputs": []
    },
    {
      "cell_type": "markdown",
      "source": [
        "1. Загрузите данные из файла recipes_sample.csv (ЛР2) в виде pd.DataFrame recipes При помощи форматирования строк выведите информацию об id рецепта и времени выполнения 5 случайных рецептов в виде таблицы следующего вида:\n",
        "\n",
        "|      id      |  minutes  |\n",
        "\n",
        "|--------------------------|\n",
        "\n",
        "|    61178     |    65     |\n",
        "\n",
        "|    202352    |    80     |\n",
        "\n",
        "|    364322    |    150    |\n",
        "\n",
        "|    26177     |    20     |\n",
        "\n",
        "|    224785    |    35     |\n",
        "\n",
        "Обратите внимание, что ширина столбцов заранее неизвестна и должна рассчитываться динамически, в зависимости от тех данных, которые были выбраны."
      ],
      "metadata": {
        "id": "Sb3ZGsYrd8tq"
      }
    },
    {
      "cell_type": "code",
      "source": [
        "from random import randint\n",
        "rand = [randint(0, len(recipes)) for i in range(5)]\n",
        "recipes1 = [recipes[['id', 'minutes']].iloc[i] for i in rand] \n",
        "print(f\"|{'id':^10}|{'minutes':^9}|\")\n",
        "print(f\"|{'':-^20}|\")\n",
        "for el in recipes1:\n",
        "    print(f\"|{el[0]:^10}|{el[1]:^9}|\")\n",
        "recipe = recipes[recipes['id'] == 170895].to_dict('index')[15754]"
      ],
      "metadata": {
        "colab": {
          "base_uri": "https://localhost:8080/"
        },
        "id": "FSupb4Gvfeul",
        "outputId": "4aca4a29-5489-41d0-db6d-efc16a374e70"
      },
      "execution_count": 4,
      "outputs": [
        {
          "output_type": "stream",
          "name": "stdout",
          "text": [
            "|    id    | minutes |\n",
            "|--------------------|\n",
            "|  20799   |   65    |\n",
            "|  220661  |   185   |\n",
            "|  337696  |    5    |\n",
            "|  461636  |   85    |\n",
            "|  49030   |   45    |\n"
          ]
        }
      ]
    },
    {
      "cell_type": "markdown",
      "source": [
        "2. Напишите функцию show_info, которая по данным о рецепте создает строку (в смысле объекта python) с описанием следующего вида:\n",
        "\n",
        "\"Название Из Нескольких Слов\"\n",
        "\n",
        "1. Шаг 1\n",
        "2. Шаг 2\n",
        "----------\n",
        "Автор: contributor_id\n",
        "\n",
        "Среднее время приготовления: minutes минут\n",
        "Данные для создания строки получите из файлов recipes_sample.csv (ЛР2) и steps_sample.xml (ЛР3). Вызовите данную функцию для рецепта с id 170895 и выведите (через print) полученную строку на экран."
      ],
      "metadata": {
        "id": "bcq_OjQJfzwh"
      }
    },
    {
      "cell_type": "code",
      "source": [
        "with open('steps_sample.xml') as f:\n",
        "    tree = BeautifulSoup(f, 'xml')\n",
        "dic = {}\n",
        "for recipe in tree.recipes.find_all('recipe'):\n",
        "    st = [steps.next for steps in recipe.steps.find_all(\"step\")]\n",
        "    dic[int(recipe.find('id').text)] = st\n",
        "data = dic[170895]\n",
        "recipe = recipes[recipes['id'] == 170895].to_dict('index')[15754]\n",
        "dictionary = {'name' : recipe['name'],\\\n",
        "             'steps' : data,\\\n",
        "             'author' : recipe['contributor_id'],\\\n",
        "             'minutes' : recipe['minutes']}\n",
        "display(dictionary)"
      ],
      "metadata": {
        "colab": {
          "base_uri": "https://localhost:8080/",
          "height": 433
        },
        "id": "baZ8thVXith6",
        "outputId": "d1f3e8be-dff1-4a64-fef6-73c9a8c89a59"
      },
      "execution_count": 5,
      "outputs": [
        {
          "output_type": "display_data",
          "data": {
            "text/plain": [
              "{'name': 'leeks and parsnips  sauteed or creamed',\n",
              " 'steps': ['clean the leeks and discard the dark green portions',\n",
              "  'cut the leeks lengthwise then into one-inch pieces',\n",
              "  'melt the butter in a medium skillet , med',\n",
              "  'heat',\n",
              "  \"add the garlic and fry 'til fragrant\",\n",
              "  'add leeks and fry until the leeks are tender , about 6-minutes',\n",
              "  'meanwhile , peel and chunk the parsnips into one-inch pieces',\n",
              "  \"place in a steaming basket and steam 'til they are as tender as you prefer\",\n",
              "  'i like them fork-tender',\n",
              "  'drain parsnips and add to the skillet with the leeks',\n",
              "  'add salt and pepper',\n",
              "  'gently sautee together for 5-minutes',\n",
              "  'at this point you can serve it , or continue on and cream it:',\n",
              "  'in a jar with a screw top , add the half-n-half and arrowroot',\n",
              "  \"shake 'til blended\",\n",
              "  'turn heat to low under the leeks and parsnips',\n",
              "  'pour in the arrowroot mixture , stirring gently as you pour',\n",
              "  'if too thick , gradually add the water',\n",
              "  'let simmer for a couple of minutes',\n",
              "  'taste to adjust seasoning , probably an additional 1 / 2 teaspoon salt',\n",
              "  'serve warm'],\n",
              " 'author': 8377,\n",
              " 'minutes': 27}"
            ]
          },
          "metadata": {}
        }
      ]
    },
    {
      "cell_type": "code",
      "source": [
        "def show_info(recipe:dic):\n",
        "    string = ' '\n",
        "    string += f\"{recipe['name'].title()}\\n\"\n",
        "    for i, el in enumerate(recipe['steps']):\n",
        "        string += f'{i+1}. {el.capitalize()} \\n'\n",
        "    string += '-'*30\n",
        "    string += '\\n'\n",
        "    string += f\"Автор: {recipe['author']}\\n\"\n",
        "    string += f\"Среднее время приготовления: {recipe['minutes']} минут\\n\"\n",
        "    return string\n",
        "print(show_info(dictionary))\n",
        "## смотри внимательнее на переменные и на то, что суешь в функцию, у тебя в ней был dic, общий словарик с шагами"
      ],
      "metadata": {
        "colab": {
          "base_uri": "https://localhost:8080/"
        },
        "id": "Cwdxx6JQjrjH",
        "outputId": "ad582204-18e5-4b9d-efc6-1052910581ce"
      },
      "execution_count": 7,
      "outputs": [
        {
          "output_type": "stream",
          "name": "stdout",
          "text": [
            " Leeks And Parsnips  Sauteed Or Creamed\n",
            "1. Clean the leeks and discard the dark green portions \n",
            "2. Cut the leeks lengthwise then into one-inch pieces \n",
            "3. Melt the butter in a medium skillet , med \n",
            "4. Heat \n",
            "5. Add the garlic and fry 'til fragrant \n",
            "6. Add leeks and fry until the leeks are tender , about 6-minutes \n",
            "7. Meanwhile , peel and chunk the parsnips into one-inch pieces \n",
            "8. Place in a steaming basket and steam 'til they are as tender as you prefer \n",
            "9. I like them fork-tender \n",
            "10. Drain parsnips and add to the skillet with the leeks \n",
            "11. Add salt and pepper \n",
            "12. Gently sautee together for 5-minutes \n",
            "13. At this point you can serve it , or continue on and cream it: \n",
            "14. In a jar with a screw top , add the half-n-half and arrowroot \n",
            "15. Shake 'til blended \n",
            "16. Turn heat to low under the leeks and parsnips \n",
            "17. Pour in the arrowroot mixture , stirring gently as you pour \n",
            "18. If too thick , gradually add the water \n",
            "19. Let simmer for a couple of minutes \n",
            "20. Taste to adjust seasoning , probably an additional 1 / 2 teaspoon salt \n",
            "21. Serve warm \n",
            "------------------------------\n",
            "Автор: 8377\n",
            "Среднее время приготовления: 27 минут\n",
            "\n"
          ]
        }
      ]
    },
    {
      "cell_type": "markdown",
      "source": [
        "3. Напишите регулярное выражение, которое ищет следующий паттерн в строке: число (1 цифра или более), затем пробел, затем слова: hour или hours или minute или minutes. Произведите поиск по данному регулярному выражению в каждом шаге рецепта с id 25082. Выведите на экран все непустые результаты, найденные по данному шаблону."
      ],
      "metadata": {
        "id": "jUwzqYNID39J"
      }
    },
    {
      "cell_type": "code",
      "execution_count": 4,
      "metadata": {
        "id": "XHgcxsYkD20v"
      },
      "outputs": [],
      "source": [
        "with open('steps_sample.xml') as f:\n",
        "    tree = BeautifulSoup(f, 'xml')\n",
        "dic = {}\n",
        "for recipe in tree.recipes.find_all('recipe'):\n",
        "    st = [steps.next for steps in recipe.steps.find_all(\"step\")]\n",
        "    dic[int(recipe.find('id').text)] = st\n",
        "data = dic[25082]"
      ]
    },
    {
      "cell_type": "code",
      "source": [
        "t = r'\\d+ hours|\\d+ hour|\\d+ minutes|\\d+ minute'\n",
        "for i in data:\n",
        "     print(re.findall(t, i))\n"
      ],
      "metadata": {
        "colab": {
          "base_uri": "https://localhost:8080/"
        },
        "id": "kYDhEil2VOt7",
        "outputId": "3624c149-50ab-4646-b907-6ea358bb651d"
      },
      "execution_count": 6,
      "outputs": [
        {
          "output_type": "stream",
          "name": "stdout",
          "text": [
            "[]\n",
            "[]\n",
            "[]\n",
            "[]\n",
            "[]\n",
            "['20 minutes']\n",
            "[]\n",
            "['10 minutes']\n",
            "[]\n",
            "['2 hours']\n",
            "[]\n",
            "[]\n",
            "[]\n",
            "['10 minutes']\n",
            "[]\n",
            "[]\n",
            "['20 minutes', '30 minutes']\n",
            "[]\n"
          ]
        }
      ]
    },
    {
      "cell_type": "markdown",
      "source": [
        "4. Напишите регулярное выражение, которое ищет шаблон вида \"this..., but\" в начале строки . Между словом \"this\" и частью \", but\" может находиться произвольное число букв, цифр, знаков подчеркивания и пробелов. Никаких других символов вместо многоточия быть не может. Пробел между запятой и словом \"but\" может присутствовать или отсутствовать.\n",
        "\n",
        "Используя строковые методы pd.Series, выясните, для каких рецептов данный шаблон содержится в тексте описания. Выведите на экран количество таких рецептов и 3 примера подходящих описаний (текст описания должен быть виден на экране полностью)."
      ],
      "metadata": {
        "id": "aiOjC4pYD6KL"
      }
    },
    {
      "cell_type": "code",
      "source": [
        "a = r'this[\\w ]*?, ?but'\n",
        "data = recipes['description'].tolist()\n",
        "c =  0\n",
        "for i in data:\n",
        "    l = re.search(a, str(i))\n",
        "    if l == None:\n",
        "        continue\n",
        "    else:\n",
        "        c += 1\n",
        "        if c <= 3:\n",
        "            print(i)\n",
        "print(c)"
      ],
      "metadata": {
        "colab": {
          "base_uri": "https://localhost:8080/"
        },
        "id": "bm_RFxcXD93s",
        "outputId": "262b127e-e729-4d56-d9ab-937683c07197"
      },
      "execution_count": 20,
      "outputs": [
        {
          "output_type": "stream",
          "name": "stdout",
          "text": [
            "okay, i probably didn't make this up, but i felt like i did.  i was looking for something new to make that my kids would love.  it was colorful and my 3 year old called it rainbow chicken. so easy and i liked it too!\r\n",
            "the amounts and times are not exact i didn't really measure as i was going along.\n",
            "this is a great meal eaten the same day ,but even better the next day , if you can wait! add your favourite spices, but try it first as it is and i think that you will enjoy the 'vegetable' taste. good for freezing.\n",
            "this is fantastic served with grilled seafood or chicken! plan ahead this needs to chill for 30 minutes before serving, this can be made up to 2 hours in advance, but does not keep well overnight.\n",
            "716\n"
          ]
        }
      ]
    },
    {
      "cell_type": "markdown",
      "source": [
        "5. В текстах шагов рецептов обыкновенные дроби имеют вид \"a / b\". Используя регулярные выражения, уберите в тексте шагов рецепта с id 72367 пробелы до и после символа дроби. Выведите на экран шаги этого рецепта после их изменения."
      ],
      "metadata": {
        "id": "no01iFfGD-YS"
      }
    },
    {
      "cell_type": "code",
      "source": [
        "data = dic[72367]\n",
        "for i in range(len(data)):\n",
        "    data[i] =re.sub(r'(\\d) / (\\d)', r'\\1/\\2', data[i])\n",
        "print(data)"
      ],
      "metadata": {
        "colab": {
          "base_uri": "https://localhost:8080/"
        },
        "id": "Mvjg3mFfEDh1",
        "outputId": "bf6b70f5-761f-4cc5-91cf-b18d643a12f9"
      },
      "execution_count": 21,
      "outputs": [
        {
          "output_type": "stream",
          "name": "stdout",
          "text": [
            "['mix butter , flour , 1/3 c', 'sugar and 1-1/4 t', 'vanilla', 'press into greased 9\" springform pan', 'mix cream cheese , 1/4 c', 'sugar , eggs and 1/2 t', 'vanilla beating until fluffy', 'pour over dough', 'combine apples , 1/3 c', 'sugar and cinnamon', 'arrange on top of cream cheese mixture and sprinkle with almonds', 'bake at 350 for 45-55 minutes , or until tester comes out clean']\n"
          ]
        }
      ]
    },
    {
      "cell_type": "code",
      "source": [
        "import nltk\n",
        "nltk.download('averaged_perceptron_tagger')\n",
        "from nltk.tokenize.toktok import ToktokTokenizer\n",
        "toktok = ToktokTokenizer()"
      ],
      "metadata": {
        "colab": {
          "base_uri": "https://localhost:8080/"
        },
        "id": "rmmyt5h3kzdr",
        "outputId": "ac5e3f94-de97-4c36-cf27-f5debabc599f"
      },
      "execution_count": 8,
      "outputs": [
        {
          "output_type": "stream",
          "name": "stderr",
          "text": [
            "[nltk_data] Downloading package averaged_perceptron_tagger to\n",
            "[nltk_data]     /root/nltk_data...\n",
            "[nltk_data]   Unzipping taggers/averaged_perceptron_tagger.zip.\n"
          ]
        }
      ]
    },
    {
      "cell_type": "markdown",
      "source": [
        "6. Разбейте тексты шагов рецептов на слова при помощи пакета nltk. Посчитайте и выведите на экран кол-во уникальных слов среди всех рецептов. Словом называется любая последовательность алфавитных символов (для проверки можно воспользоваться str.isalpha). При подсчете количества уникальных слов не учитывайте регистр."
      ],
      "metadata": {
        "id": "rlECrfIFklk4"
      }
    },
    {
      "cell_type": "code",
      "source": [
        "words = []\n",
        "for recipe in dic.values():\n",
        "    for step in recipe:\n",
        "        words += (toktok.tokenize(step))\n",
        "words = [el.lower() if el.isalpha() else 1 for el in words]\n",
        "words = set(words)\n",
        "words.remove(1)\n",
        "len(words)"
      ],
      "metadata": {
        "id": "MHPtdlPZk-C9"
      },
      "execution_count": null,
      "outputs": []
    },
    {
      "cell_type": "markdown",
      "source": [
        "7. Разбейте описания рецептов из recipes на предложения при помощи пакета nltk. Найдите 5 самых длинных описаний (по количеству предложений) рецептов в датасете и выведите строки фрейма, соответствующие этим рецептами, в порядке убывания длины."
      ],
      "metadata": {
        "id": "v_XI3oeBlBqB"
      }
    },
    {
      "cell_type": "code",
      "source": [
        "from nltk.tokenize import sent_tokenize\n",
        "dic1 = {}\n",
        "for key, val in dic.items():\n",
        "    dic1[key] = 0\n",
        "    for step in val:\n",
        "        dic1[key] += len(sent_tokenize(step))\n",
        "for i in range(-1, -6, -1):\n",
        "    print(dic[sorted(dic)[i]])"
      ],
      "metadata": {
        "id": "ImXdL_BGlFC7"
      },
      "execution_count": null,
      "outputs": []
    }
  ]
}